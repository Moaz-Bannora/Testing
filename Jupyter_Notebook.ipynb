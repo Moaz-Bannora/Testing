{
 "cells": [
  {
   "cell_type": "markdown",
   "metadata": {},
   "source": [
    "<center>\n",
    "    <img src=\"https://cf-courses-data.s3.us.cloud-object-storage.appdomain.cloud/IBMDeveloperSkillsNetwork-DS0105EN-SkillsNetwork/labs/Module2/images/SN_web_lightmode.png\" width=\"300\" alt=\"cognitiveclass.ai logo\">\n",
    "</center>\n"
   ]
  },
  {
   "cell_type": "markdown",
   "metadata": {
    "tags": []
   },
   "source": [
    "# My First Jupyter Notebook"
   ]
  },
  {
   "cell_type": "markdown",
   "metadata": {
    "tags": []
   },
   "source": [
    "### This is an introduction to the main languages, libraries and tools that data scientists use in the workspace."
   ]
  },
  {
   "cell_type": "markdown",
   "metadata": {
    "tags": []
   },
   "source": [
    "### 1. Programming Languages\n",
    "#### the most common languages that are used for data science are as follows:\n",
    "- Python \n",
    "- R Programming\n",
    "- Java\n",
    "- JavaScript\n",
    "- Scala\n",
    "- SQL\n",
    "- Matlab\n",
    "- TensorFlow\n",
    "- C/C++\n",
    "- Julia\n",
    "- Swift\n",
    "\n"
   ]
  },
  {
   "cell_type": "markdown",
   "metadata": {
    "tags": []
   },
   "source": [
    "### 2. Libraries\n",
    "#### libraries that are used for data science are as follows:\n",
    "#### Data Mining:\n",
    "- Scrapy\n",
    "- BeautifulSoup\n",
    "#### Data Processing and Modeling:\n",
    "- NumPy\n",
    "- SciPy \n",
    "- Pandas\n",
    "- Keras\n",
    "- SciKit-Learn\n",
    "#### Data Visualization:\n",
    "- Matplotlib\n",
    "- Seaborn\n",
    "- Plotly\n",
    "\n"
   ]
  },
  {
   "cell_type": "markdown",
   "metadata": {},
   "source": [
    "### 3. Tools for data science\n",
    "#### common tools that are used for data science are as follows:\n",
    "| Name | Description |\n",
    "| :- | :-: |\n",
    "| Git | Git is the standard tool for version control. Once you start to work with a team, you’ll understand how important version control is. |\n",
    "| Spark | Apache Spark is a powerful tool used to stream and process data at very large scales within short periods of time, through parallel processing on computer clusters. |\n",
    "| Microsoft Azure |Microsoft Azure is an ever-expanding set of cloud services to build, manage, and deploy applications on a massive global network. | \n",
    "|MySQL | MySQL is an open-source Relational Database Management System (RDBMS) that uses SQL (Structured Query Language) for database administration and queries.  |\n",
    "| Airflow | The Airflow is an open-source tool developed by the Apache Foundation, used to create, manage and monitor workflows that coordinate when determined tasks are executed. |\n",
    "| SAS | SAS is statistical software for data science that was developed for advanced analytics, business intelligence, data management, predictive analysis, and data visualization. |\n",
    "| Docker | Docker is an open-source platform used to create and manage isolated environments that we call containers. By isolating itself from the systems, a container allows you to configure and run applications totally independent from the rest of your operating system. |\n",
    "\n",
    "\n",
    "\n"
   ]
  },
  {
   "cell_type": "markdown",
   "metadata": {},
   "source": [
    "### Arithmetic Expression Examples\n",
    "1. Addition : $X+Y$ \n",
    "2. Subtraction : $X-Y$\n",
    "3. Multiplication : $X*Y$\n",
    "4. Division : $\\frac X Y$\n"
   ]
  },
  {
   "cell_type": "markdown",
   "metadata": {},
   "source": [
    "### Creating a code cell to multiply and add numbers."
   ]
  },
  {
   "cell_type": "code",
   "execution_count": 35,
   "metadata": {
    "tags": []
   },
   "outputs": [
    {
     "name": "stdout",
     "output_type": "stream",
     "text": [
      "16\n"
     ]
    }
   ],
   "source": [
    "a = 5\n",
    "b = 3\n",
    "c = 1\n",
    "\n",
    "result = a*b+c\n",
    "print(result)"
   ]
  },
  {
   "cell_type": "markdown",
   "metadata": {},
   "source": [
    "### Creating a code cell to convert minutes to hours. "
   ]
  },
  {
   "cell_type": "code",
   "execution_count": null,
   "metadata": {
    "tags": []
   },
   "outputs": [],
   "source": [
    "min = int(input(\"How Many Minutes? :--> \"))\n",
    "print(\"Hour and Minute :--> \", int(min/60),\"Hour \" \"and\", min % 60, \"minute\")"
   ]
  },
  {
   "cell_type": "markdown",
   "metadata": {},
   "source": [
    "### Making a markdown cell to list Objectives.\n",
    "\n",
    "- Create a markdown cell with the title of the notebook.\n",
    "\n",
    "- Create a markdown cell for an introduction.\n",
    "\n",
    "- Create a markdown cell to list data science languages.\n",
    "\n",
    "- Create a markdown cell to list data science libraries.\n",
    "\n",
    "- Create a markdown cell with a table of Data Science tools.\n",
    "\n",
    "- Create a markdown cell introducing arithmetic expression examples.\n",
    "\n",
    "- Create a code cell to multiply and add numbers.\n",
    "\n",
    "- Create a code cell to convert minutes to hours.\n",
    "\n",
    "- Insert a markdown cell to list Objectives.\n",
    "\n",
    "- Create a markdown cell to indicate the Author’s name.\n",
    "\n",
    "- Share your notebook through GitHub.\n",
    "\n",
    "- Take a screenshot of the first page of the notebook."
   ]
  },
  {
   "cell_type": "markdown",
   "metadata": {
    "tags": []
   },
   "source": [
    "## Author(s)\n",
    " Moaz Khalid"
   ]
  },
  {
   "cell_type": "code",
   "execution_count": null,
   "metadata": {},
   "outputs": [],
   "source": []
  }
 ],
 "metadata": {
  "kernelspec": {
   "display_name": "Python",
   "language": "python",
   "name": "conda-env-python-py"
  },
  "language_info": {
   "codemirror_mode": {
    "name": "ipython",
    "version": 3
   },
   "file_extension": ".py",
   "mimetype": "text/x-python",
   "name": "python",
   "nbconvert_exporter": "python",
   "pygments_lexer": "ipython3",
   "version": "3.7.12"
  }
 },
 "nbformat": 4,
 "nbformat_minor": 4
}
